{
  "cells": [
    {
      "cell_type": "markdown",
      "metadata": {
        "id": "AyT0WFXZz_bT"
      },
      "source": [
        "# noFraud ML Model"
      ]
    },
    {
      "cell_type": "markdown",
      "metadata": {
        "id": "3ECU4chB0Hci"
      },
      "source": [
        "### install dependencies"
      ]
    },
    {
      "cell_type": "code",
      "execution_count": null,
      "metadata": {
        "id": "KH7jnMGqOyLl"
      },
      "outputs": [],
      "source": [
        "%pip install tensorflow-text"
      ]
    },
    {
      "cell_type": "code",
      "execution_count": null,
      "metadata": {
        "id": "6qPF08htOym6"
      },
      "outputs": [],
      "source": [
        "%pip install bert-tensorflow==1.0.1"
      ]
    },
    {
      "cell_type": "code",
      "execution_count": null,
      "metadata": {
        "id": "GuqJZRc8O07r"
      },
      "outputs": [],
      "source": [
        "%pip install -q tf-models-official==2.7.0"
      ]
    },
    {
      "cell_type": "code",
      "execution_count": null,
      "metadata": {
        "colab": {
          "base_uri": "https://localhost:8080/"
        },
        "id": "8R9gYBhSTxMx",
        "outputId": "2b433b98-65cd-4208-e83b-b425fbb78d32"
      },
      "outputs": [
        {
          "name": "stderr",
          "output_type": "stream",
          "text": [
            "[nltk_data] Downloading package punkt to /root/nltk_data...\n",
            "[nltk_data]   Unzipping tokenizers/punkt.zip.\n"
          ]
        },
        {
          "data": {
            "text/plain": [
              "True"
            ]
          },
          "execution_count": 10,
          "metadata": {},
          "output_type": "execute_result"
        }
      ],
      "source": [
        "import nltk\n",
        "nltk.download('punkt')"
      ]
    },
    {
      "cell_type": "markdown",
      "metadata": {
        "id": "uMXZ2mrl0LEX"
      },
      "source": [
        "## Imports"
      ]
    },
    {
      "cell_type": "code",
      "execution_count": null,
      "metadata": {
        "id": "b0dP5j1HOcVE"
      },
      "outputs": [],
      "source": [
        "import pandas as pd\n",
        "import seaborn as sns\n",
        "import numpy as np\n",
        "import tensorflow as tf\n",
        "tf.gfile = tf.io.gfile\n",
        "import tensorflow_hub as hub\n",
        "from bert import tokenization\n",
        "from sklearn.utils import resample\n",
        "from sklearn.preprocessing import LabelEncoder\n",
        "from sklearn.metrics.pairwise import cosine_similarity\n",
        "from sklearn.model_selection import train_test_split\n",
        "import matplotlib.pyplot as plt\n",
        "from tensorflow import keras\n",
        "from official.nlp import optimization\n",
        "import os\n",
        "import tensorflow_text\n",
        "import re\n",
        "from nltk.tokenize import word_tokenize"
      ]
    },
    {
      "cell_type": "markdown",
      "metadata": {
        "id": "FRCOk2Hh0PEK"
      },
      "source": [
        "# Code to set up, preprocess, and cut-up data"
      ]
    },
    {
      "cell_type": "code",
      "execution_count": null,
      "metadata": {
        "id": "esHvtP6MPDFc"
      },
      "outputs": [],
      "source": [
        "fraud = pd.read_csv(\"/content/drive/MyDrive/fraud_email_.csv\")\n",
        "phis = pd.read_csv(\"/content/drive/MyDrive/curated_set.csv\")\n",
        "spam = pd.read_csv(\"/content/drive/MyDrive/spam_ham_dataset.csv\")\n",
        "\n",
        "phisC = phis.copy()\n",
        "for i in range(len(phisC[\"is_phishing\"])):\n",
        "    if phisC.at[i,\"is_phishing\"] == 1:\n",
        "        phisC.at[i,\"is_phishing\"] =2\n",
        "\n",
        "phisC = phisC.drop(columns=[\"Unnamed: 0\",\"source\"])\n",
        "\n",
        "# spam stuff\n",
        "\n",
        "spamC = spam.copy()\n",
        "for i in range(len(spam[\"label_num\"])):\n",
        "    if spamC.at[i,\"label_num\"] == 1:\n",
        "        spamC.at[i,\"label_num\"] =3\n",
        "\n",
        "spamC = spamC.drop(columns=[\"Unnamed: 0\",\"label\"])\n",
        "\n",
        "fraudC = fraud.copy()\n",
        "\n",
        "texts = []\n",
        "classes = []\n",
        "\n",
        "for i in range(len(fraudC)):\n",
        "  texts.append(fraudC.at[i,\"Text\"])\n",
        "  classes.append(fraudC.at[i,\"Class\"])\n",
        "\n",
        "for i in range(len(spamC)):\n",
        "  texts.append(spamC.at[i,\"text\"])\n",
        "  classes.append(spamC.at[i,\"label_num\"])\n",
        "\n",
        "for i in range(len(phisC)):\n",
        "  texts.append(phisC.at[i,\"text\"])\n",
        "  classes.append(phisC.at[i,\"is_phishing\"])\n",
        "\n",
        "fulldf = pd.DataFrame({'text':texts,'class':classes})\n",
        "\n",
        "def clean_data(line):\n",
        "    line = str(line)\n",
        "    line = line.lower() #makes it lowercase\n",
        "\n",
        "    line = re.sub(r\"[,.\\\"\\'!@#$%^&*(){}?/;`~:<>+=-\\\\]\", \"\", line) #takes out any symbols\n",
        "\n",
        "    tokens = word_tokenize(line)\n",
        "\n",
        "    words = [word for word in tokens if word.isalpha()] #check if only letters (no special chars/symbols)\n",
        "\n",
        " \n",
        "    return ','.join(words)\n",
        "\n",
        "for i in range(len(fulldf[\"text\"])):\n",
        "    fulldf.at[i,\"text\"] = clean_data(fulldf.at[i,\"text\"])\n",
        "\n",
        "\n",
        "X_train, X_test, y_train, y_test = train_test_split(fulldf[\"text\"],fulldf[\"class\"], test_size=0.2,stratify=None)\n",
        "train_labels = keras.utils.to_categorical(y_train.values, num_classes=4)\n",
        "test_labels = keras.utils.to_categorical(y_test.values, num_classes=4)\n",
        "\n"
      ]
    },
    {
      "cell_type": "markdown",
      "metadata": {
        "id": "WdKj_bAu0VqJ"
      },
      "source": [
        "## Define a new model"
      ]
    },
    {
      "cell_type": "code",
      "execution_count": null,
      "metadata": {
        "id": "Sli8zB48Pe60"
      },
      "outputs": [],
      "source": [
        "def model(metrics):\n",
        "\n",
        "    text_input = tf.keras.layers.Input(shape=(), dtype=tf.string)\n",
        "    preprocessor = hub.KerasLayer(\n",
        "        \"https://tfhub.dev/tensorflow/bert_en_uncased_preprocess/3\")\n",
        "    \n",
        "    encoder_inputs = preprocessor(text_input)\n",
        "    encoder = hub.KerasLayer(\n",
        "        \"https://tfhub.dev/tensorflow/bert_en_uncased_L-12_H-768_A-12/4\",\n",
        "        trainable=True)\n",
        "    \n",
        "    outputs = encoder(encoder_inputs)\n",
        "    pooled_output = outputs[\"pooled_output\"] \n",
        "    sequence_output = outputs[\"sequence_output\"]\n",
        "\n",
        "    clf_output = sequence_output[:, 0, :]\n",
        "    net = tf.keras.layers.Dense(32, activation='relu')(clf_output)\n",
        "    net = tf.keras.layers.Dropout(0.2)(net)\n",
        "    out = tf.keras.layers.Dense(4, activation='softmax')(net)\n",
        "    \n",
        "    model = tf.keras.models.Model(inputs=text_input, outputs=out)\n",
        "    model.compile(tf.keras.optimizers.Adam(learning_rate=1e-5), loss='categorical_crossentropy', metrics=metrics)\n",
        "    \n",
        "    return model"
      ]
    },
    {
      "cell_type": "markdown",
      "metadata": {
        "id": "0B6m9zQr0XlY"
      },
      "source": [
        "## Generate the model with metrics"
      ]
    },
    {
      "cell_type": "code",
      "execution_count": null,
      "metadata": {
        "colab": {
          "base_uri": "https://localhost:8080/"
        },
        "id": "0qC7wa-aPf0r",
        "outputId": "4e5e4112-9a38-40dd-87d2-a5fdea9efba6"
      },
      "outputs": [
        {
          "name": "stdout",
          "output_type": "stream",
          "text": [
            "Model: \"model_2\"\n",
            "__________________________________________________________________________________________________\n",
            " Layer (type)                   Output Shape         Param #     Connected to                     \n",
            "==================================================================================================\n",
            " input_3 (InputLayer)           [(None,)]            0           []                               \n",
            "                                                                                                  \n",
            " keras_layer_4 (KerasLayer)     {'input_type_ids':   0           ['input_3[0][0]']                \n",
            "                                (None, 128),                                                      \n",
            "                                 'input_word_ids':                                                \n",
            "                                (None, 128),                                                      \n",
            "                                 'input_mask': (Non                                               \n",
            "                                e, 128)}                                                          \n",
            "                                                                                                  \n",
            " keras_layer_5 (KerasLayer)     {'sequence_output':  109482241   ['keras_layer_4[0][0]',          \n",
            "                                 (None, 128, 768),                'keras_layer_4[0][1]',          \n",
            "                                 'pooled_output': (               'keras_layer_4[0][2]']          \n",
            "                                None, 768),                                                       \n",
            "                                 'default': (None,                                                \n",
            "                                768),                                                             \n",
            "                                 'encoder_outputs':                                               \n",
            "                                 [(None, 128, 768),                                               \n",
            "                                 (None, 128, 768),                                                \n",
            "                                 (None, 128, 768),                                                \n",
            "                                 (None, 128, 768),                                                \n",
            "                                 (None, 128, 768),                                                \n",
            "                                 (None, 128, 768),                                                \n",
            "                                 (None, 128, 768),                                                \n",
            "                                 (None, 128, 768),                                                \n",
            "                                 (None, 128, 768),                                                \n",
            "                                 (None, 128, 768),                                                \n",
            "                                 (None, 128, 768),                                                \n",
            "                                 (None, 128, 768)]}                                               \n",
            "                                                                                                  \n",
            " tf.__operators__.getitem_2 (Sl  (None, 768)         0           ['keras_layer_5[0][14]']         \n",
            " icingOpLambda)                                                                                   \n",
            "                                                                                                  \n",
            " dense_4 (Dense)                (None, 32)           24608       ['tf.__operators__.getitem_2[0][0\n",
            "                                                                 ]']                              \n",
            "                                                                                                  \n",
            " dropout_2 (Dropout)            (None, 32)           0           ['dense_4[0][0]']                \n",
            "                                                                                                  \n",
            " dense_5 (Dense)                (None, 4)            132         ['dropout_2[0][0]']              \n",
            "                                                                                                  \n",
            "==================================================================================================\n",
            "Total params: 109,506,981\n",
            "Trainable params: 109,506,980\n",
            "Non-trainable params: 1\n",
            "__________________________________________________________________________________________________\n"
          ]
        }
      ],
      "source": [
        "METRICS = [\n",
        "    tf.keras.metrics.BinaryAccuracy(name='accuracy'),\n",
        "      tf.keras.metrics.Precision(name='precision'),\n",
        "      tf.keras.metrics.Recall(name='recall')\n",
        "]\n",
        "\n",
        "noFraud_model = model(METRICS)\n",
        "noFraud_model.summary()"
      ]
    },
    {
      "cell_type": "markdown",
      "metadata": {
        "id": "CbsAGa2z0cko"
      },
      "source": [
        "# Train the model"
      ]
    },
    {
      "cell_type": "code",
      "execution_count": null,
      "metadata": {
        "colab": {
          "base_uri": "https://localhost:8080/"
        },
        "id": "UfXxvpPHPh5B",
        "outputId": "a3d13211-76e4-4d68-d1f3-073ea68b35b2"
      },
      "outputs": [
        {
          "name": "stdout",
          "output_type": "stream",
          "text": [
            "Epoch 1/3\n",
            "349/349 [==============================] - 387s 984ms/step - loss: 0.2638 - accuracy: 0.9546 - precision: 0.9315 - recall: 0.8832 - val_loss: 0.0704 - val_accuracy: 0.9843 - val_precision: 0.9691 - val_recall: 0.9681\n",
            "Epoch 2/3\n",
            "349/349 [==============================] - 351s 1s/step - loss: 0.0796 - accuracy: 0.9871 - precision: 0.9767 - recall: 0.9715 - val_loss: 0.0500 - val_accuracy: 0.9904 - val_precision: 0.9810 - val_recall: 0.9806\n",
            "Epoch 3/3\n",
            "349/349 [==============================] - 351s 1s/step - loss: 0.0451 - accuracy: 0.9916 - precision: 0.9841 - recall: 0.9822 - val_loss: 0.0632 - val_accuracy: 0.9889 - val_precision: 0.9781 - val_recall: 0.9774\n"
          ]
        }
      ],
      "source": [
        "train_history = noFraud_model.fit(\n",
        "    X_train, train_labels, \n",
        "    validation_split=0.2,\n",
        "    epochs=3,\n",
        "    verbose=1\n",
        ")"
      ]
    },
    {
      "cell_type": "markdown",
      "metadata": {
        "id": "7f1o6Fdx0gsG"
      },
      "source": [
        "# Evaluate - accuracy of 99.07%"
      ]
    },
    {
      "cell_type": "code",
      "execution_count": null,
      "metadata": {
        "colab": {
          "base_uri": "https://localhost:8080/"
        },
        "id": "G9ZRZVOXavEg",
        "outputId": "c6d052f2-6274-4a6c-f9c6-2d8de6fec8d4"
      },
      "outputs": [
        {
          "name": "stdout",
          "output_type": "stream",
          "text": [
            "109/109 [==============================] - 39s 355ms/step - loss: 0.0551 - accuracy: 0.9907 - precision: 0.9816 - recall: 0.9811\n"
          ]
        },
        {
          "data": {
            "text/plain": [
              "[0.05506602302193642,\n",
              " 0.990676999092102,\n",
              " 0.9816303253173828,\n",
              " 0.9810671210289001]"
            ]
          },
          "execution_count": 24,
          "metadata": {},
          "output_type": "execute_result"
        }
      ],
      "source": [
        "noFraud_model.evaluate(X_test,test_labels)"
      ]
    },
    {
      "cell_type": "markdown",
      "metadata": {
        "id": "qOv3cGgJ0m_g"
      },
      "source": [
        "## Saving"
      ]
    },
    {
      "cell_type": "code",
      "execution_count": null,
      "metadata": {
        "colab": {
          "base_uri": "https://localhost:8080/"
        },
        "id": "I18Qo76NbTrF",
        "outputId": "ce01697d-2450-4c9a-bcc8-5282798b8833"
      },
      "outputs": [
        {
          "name": "stderr",
          "output_type": "stream",
          "text": [
            "WARNING:absl:Found untraced functions such as restored_function_body, restored_function_body, restored_function_body, restored_function_body, restored_function_body while saving (showing 5 of 366). These functions will not be directly callable after loading.\n"
          ]
        }
      ],
      "source": [
        "noFraud_model.save(\"./content/drive/Mydrive/10th Grade/noFraud_model\")"
      ]
    },
    {
      "cell_type": "markdown",
      "metadata": {
        "id": "g-PaBLE90pLI"
      },
      "source": [
        "# Sample Prediction"
      ]
    },
    {
      "cell_type": "code",
      "execution_count": null,
      "metadata": {
        "colab": {
          "base_uri": "https://localhost:8080/"
        },
        "id": "CyRzTvFvkbQh",
        "outputId": "79c06ff8-c696-4e4f-89f9-99e5aaaf7f18"
      },
      "outputs": [
        {
          "name": "stdout",
          "output_type": "stream",
          "text": [
            "1/1 [==============================] - 1s 930ms/step\n"
          ]
        },
        {
          "data": {
            "text/plain": [
              "array([[9.7531110e-01, 2.3250505e-02, 8.7237137e-04, 5.6591589e-04]],\n",
              "      dtype=float32)"
            ]
          },
          "execution_count": 34,
          "metadata": {},
          "output_type": "execute_result"
        }
      ],
      "source": [
        "noFraud_model.predict([\"gnaru\"])"
      ]
    }
  ],
  "metadata": {
    "accelerator": "GPU",
    "colab": {
      "provenance": []
    },
    "gpuClass": "standard",
    "kernelspec": {
      "display_name": "Python 3.9.12 ('base')",
      "language": "python",
      "name": "python3"
    },
    "language_info": {
      "name": "python",
      "version": "3.9.12"
    },
    "vscode": {
      "interpreter": {
        "hash": "d1ac76d35ee56195293cc6211a5ce28046b0a933cffd512b659c2d35988db783"
      }
    }
  },
  "nbformat": 4,
  "nbformat_minor": 0
}
